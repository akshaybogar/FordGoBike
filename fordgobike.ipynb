{
 "cells": [
  {
   "cell_type": "markdown",
   "metadata": {},
   "source": [
    "# FordGoBike \n",
    "\n",
    "\n",
    "\n",
    "Here, we will analyse and visualise FordGoBike dataset March 2019. This dataset contains infomation about each trip (anonimized). This dataset contains around 256,299 records."
   ]
  },
  {
   "cell_type": "markdown",
   "metadata": {},
   "source": [
    "Questions asked on this dataset:\n",
    "\n",
    "- Which day is the most popular day for bike trip.\n",
    "- Which type of user take rides more frequently.\n",
    "- Which age group takes more number of rides.\n",
    "- Does trip duration depend on age and gender\n",
    "\n",
    "start_date, member_birth_year, duration_sec and member_gender are the columns focussed on to answer above questions and draw conclusions."
   ]
  },
  {
   "cell_type": "code",
   "execution_count": 1,
   "metadata": {},
   "outputs": [],
   "source": [
    "# import all packages and set plots to be embedded inline\n",
    "import numpy as np\n",
    "import pandas as pd\n",
    "import matplotlib.pyplot as plt\n",
    "import seaborn as sb\n",
    "import datetime\n",
    "\n",
    "%matplotlib inline"
   ]
  },
  {
   "cell_type": "markdown",
   "metadata": {},
   "source": [
    "The data is loaded into a dataframe from 'fordgobike-tripdata-2019.csv'"
   ]
  },
  {
   "cell_type": "code",
   "execution_count": 2,
   "metadata": {},
   "outputs": [],
   "source": [
    "fgb = pd.read_csv('fordgobike-tripdata-2019.csv')"
   ]
  },
  {
   "cell_type": "code",
   "execution_count": 3,
   "metadata": {
    "scrolled": false
   },
   "outputs": [
    {
     "data": {
      "text/html": [
       "<div>\n",
       "<style scoped>\n",
       "    .dataframe tbody tr th:only-of-type {\n",
       "        vertical-align: middle;\n",
       "    }\n",
       "\n",
       "    .dataframe tbody tr th {\n",
       "        vertical-align: top;\n",
       "    }\n",
       "\n",
       "    .dataframe thead th {\n",
       "        text-align: right;\n",
       "    }\n",
       "</style>\n",
       "<table border=\"1\" class=\"dataframe\">\n",
       "  <thead>\n",
       "    <tr style=\"text-align: right;\">\n",
       "      <th></th>\n",
       "      <th>duration_sec</th>\n",
       "      <th>start_time</th>\n",
       "      <th>end_time</th>\n",
       "      <th>start_station_id</th>\n",
       "      <th>start_station_name</th>\n",
       "      <th>start_station_latitude</th>\n",
       "      <th>start_station_longitude</th>\n",
       "      <th>end_station_id</th>\n",
       "      <th>end_station_name</th>\n",
       "      <th>end_station_latitude</th>\n",
       "      <th>end_station_longitude</th>\n",
       "      <th>bike_id</th>\n",
       "      <th>user_type</th>\n",
       "      <th>member_birth_year</th>\n",
       "      <th>member_gender</th>\n",
       "      <th>bike_share_for_all_trip</th>\n",
       "    </tr>\n",
       "  </thead>\n",
       "  <tbody>\n",
       "    <tr>\n",
       "      <th>0</th>\n",
       "      <td>53588</td>\n",
       "      <td>2019-03-31 20:59:21.8780</td>\n",
       "      <td>2019-04-01 11:52:30.2000</td>\n",
       "      <td>377.0</td>\n",
       "      <td>Fell St at Stanyan St</td>\n",
       "      <td>37.771917</td>\n",
       "      <td>-122.453704</td>\n",
       "      <td>377.0</td>\n",
       "      <td>Fell St at Stanyan St</td>\n",
       "      <td>37.771917</td>\n",
       "      <td>-122.453704</td>\n",
       "      <td>6803</td>\n",
       "      <td>Subscriber</td>\n",
       "      <td>1980.0</td>\n",
       "      <td>Other</td>\n",
       "      <td>No</td>\n",
       "    </tr>\n",
       "    <tr>\n",
       "      <th>1</th>\n",
       "      <td>74305</td>\n",
       "      <td>2019-03-31 13:56:46.0050</td>\n",
       "      <td>2019-04-01 10:35:11.4540</td>\n",
       "      <td>385.0</td>\n",
       "      <td>Woolsey St at Sacramento St</td>\n",
       "      <td>37.850578</td>\n",
       "      <td>-122.278175</td>\n",
       "      <td>233.0</td>\n",
       "      <td>4th Ave at E 12th St (Temporary Location)</td>\n",
       "      <td>37.795913</td>\n",
       "      <td>-122.255547</td>\n",
       "      <td>6415</td>\n",
       "      <td>Subscriber</td>\n",
       "      <td>1990.0</td>\n",
       "      <td>Male</td>\n",
       "      <td>No</td>\n",
       "    </tr>\n",
       "    <tr>\n",
       "      <th>2</th>\n",
       "      <td>79789</td>\n",
       "      <td>2019-03-31 11:48:34.2010</td>\n",
       "      <td>2019-04-01 09:58:23.8240</td>\n",
       "      <td>3.0</td>\n",
       "      <td>Powell St BART Station (Market St at 4th St)</td>\n",
       "      <td>37.786375</td>\n",
       "      <td>-122.404904</td>\n",
       "      <td>345.0</td>\n",
       "      <td>Hubbell St at 16th St</td>\n",
       "      <td>37.766483</td>\n",
       "      <td>-122.398279</td>\n",
       "      <td>2317</td>\n",
       "      <td>Customer</td>\n",
       "      <td>NaN</td>\n",
       "      <td>NaN</td>\n",
       "      <td>No</td>\n",
       "    </tr>\n",
       "    <tr>\n",
       "      <th>3</th>\n",
       "      <td>59315</td>\n",
       "      <td>2019-03-31 16:48:54.3740</td>\n",
       "      <td>2019-04-01 09:17:30.1540</td>\n",
       "      <td>92.0</td>\n",
       "      <td>Mission Bay Kids Park</td>\n",
       "      <td>37.772301</td>\n",
       "      <td>-122.393028</td>\n",
       "      <td>49.0</td>\n",
       "      <td>S Park St at 3rd St</td>\n",
       "      <td>37.780760</td>\n",
       "      <td>-122.394989</td>\n",
       "      <td>6631</td>\n",
       "      <td>Customer</td>\n",
       "      <td>1996.0</td>\n",
       "      <td>Female</td>\n",
       "      <td>No</td>\n",
       "    </tr>\n",
       "    <tr>\n",
       "      <th>4</th>\n",
       "      <td>47886</td>\n",
       "      <td>2019-03-31 19:54:24.1480</td>\n",
       "      <td>2019-04-01 09:12:30.8170</td>\n",
       "      <td>339.0</td>\n",
       "      <td>Jackson St at 11th St</td>\n",
       "      <td>37.800002</td>\n",
       "      <td>-122.266438</td>\n",
       "      <td>18.0</td>\n",
       "      <td>Telegraph Ave at Alcatraz Ave</td>\n",
       "      <td>37.850222</td>\n",
       "      <td>-122.260172</td>\n",
       "      <td>5241</td>\n",
       "      <td>Subscriber</td>\n",
       "      <td>1974.0</td>\n",
       "      <td>Female</td>\n",
       "      <td>No</td>\n",
       "    </tr>\n",
       "  </tbody>\n",
       "</table>\n",
       "</div>"
      ],
      "text/plain": [
       "   duration_sec                start_time                  end_time  \\\n",
       "0         53588  2019-03-31 20:59:21.8780  2019-04-01 11:52:30.2000   \n",
       "1         74305  2019-03-31 13:56:46.0050  2019-04-01 10:35:11.4540   \n",
       "2         79789  2019-03-31 11:48:34.2010  2019-04-01 09:58:23.8240   \n",
       "3         59315  2019-03-31 16:48:54.3740  2019-04-01 09:17:30.1540   \n",
       "4         47886  2019-03-31 19:54:24.1480  2019-04-01 09:12:30.8170   \n",
       "\n",
       "   start_station_id                            start_station_name  \\\n",
       "0             377.0                         Fell St at Stanyan St   \n",
       "1             385.0                   Woolsey St at Sacramento St   \n",
       "2               3.0  Powell St BART Station (Market St at 4th St)   \n",
       "3              92.0                         Mission Bay Kids Park   \n",
       "4             339.0                         Jackson St at 11th St   \n",
       "\n",
       "   start_station_latitude  start_station_longitude  end_station_id  \\\n",
       "0               37.771917              -122.453704           377.0   \n",
       "1               37.850578              -122.278175           233.0   \n",
       "2               37.786375              -122.404904           345.0   \n",
       "3               37.772301              -122.393028            49.0   \n",
       "4               37.800002              -122.266438            18.0   \n",
       "\n",
       "                            end_station_name  end_station_latitude  \\\n",
       "0                      Fell St at Stanyan St             37.771917   \n",
       "1  4th Ave at E 12th St (Temporary Location)             37.795913   \n",
       "2                      Hubbell St at 16th St             37.766483   \n",
       "3                        S Park St at 3rd St             37.780760   \n",
       "4              Telegraph Ave at Alcatraz Ave             37.850222   \n",
       "\n",
       "   end_station_longitude  bike_id   user_type  member_birth_year  \\\n",
       "0            -122.453704     6803  Subscriber             1980.0   \n",
       "1            -122.255547     6415  Subscriber             1990.0   \n",
       "2            -122.398279     2317    Customer                NaN   \n",
       "3            -122.394989     6631    Customer             1996.0   \n",
       "4            -122.260172     5241  Subscriber             1974.0   \n",
       "\n",
       "  member_gender bike_share_for_all_trip  \n",
       "0         Other                      No  \n",
       "1          Male                      No  \n",
       "2           NaN                      No  \n",
       "3        Female                      No  \n",
       "4        Female                      No  "
      ]
     },
     "execution_count": 3,
     "metadata": {},
     "output_type": "execute_result"
    }
   ],
   "source": [
    "fgb.head()"
   ]
  },
  {
   "cell_type": "code",
   "execution_count": 4,
   "metadata": {},
   "outputs": [
    {
     "data": {
      "text/plain": [
       "(256299, 16)"
      ]
     },
     "execution_count": 4,
     "metadata": {},
     "output_type": "execute_result"
    }
   ],
   "source": [
    "#Structure of the dataframe\n",
    "fgb.shape"
   ]
  },
  {
   "cell_type": "markdown",
   "metadata": {},
   "source": [
    "### Assessing data"
   ]
  },
  {
   "cell_type": "code",
   "execution_count": 5,
   "metadata": {
    "scrolled": true
   },
   "outputs": [
    {
     "data": {
      "text/html": [
       "<div>\n",
       "<style scoped>\n",
       "    .dataframe tbody tr th:only-of-type {\n",
       "        vertical-align: middle;\n",
       "    }\n",
       "\n",
       "    .dataframe tbody tr th {\n",
       "        vertical-align: top;\n",
       "    }\n",
       "\n",
       "    .dataframe thead th {\n",
       "        text-align: right;\n",
       "    }\n",
       "</style>\n",
       "<table border=\"1\" class=\"dataframe\">\n",
       "  <thead>\n",
       "    <tr style=\"text-align: right;\">\n",
       "      <th></th>\n",
       "      <th>duration_sec</th>\n",
       "      <th>start_station_id</th>\n",
       "      <th>start_station_latitude</th>\n",
       "      <th>start_station_longitude</th>\n",
       "      <th>end_station_id</th>\n",
       "      <th>end_station_latitude</th>\n",
       "      <th>end_station_longitude</th>\n",
       "      <th>bike_id</th>\n",
       "      <th>member_birth_year</th>\n",
       "    </tr>\n",
       "  </thead>\n",
       "  <tbody>\n",
       "    <tr>\n",
       "      <th>count</th>\n",
       "      <td>256299.000000</td>\n",
       "      <td>256078.000000</td>\n",
       "      <td>256299.000000</td>\n",
       "      <td>256299.000000</td>\n",
       "      <td>256078.000000</td>\n",
       "      <td>256299.000000</td>\n",
       "      <td>256299.000000</td>\n",
       "      <td>256299.000000</td>\n",
       "      <td>244576.000000</td>\n",
       "    </tr>\n",
       "    <tr>\n",
       "      <th>mean</th>\n",
       "      <td>807.873831</td>\n",
       "      <td>141.352424</td>\n",
       "      <td>37.771769</td>\n",
       "      <td>-122.356164</td>\n",
       "      <td>140.011317</td>\n",
       "      <td>37.771933</td>\n",
       "      <td>-122.355815</td>\n",
       "      <td>4916.572531</td>\n",
       "      <td>1984.989050</td>\n",
       "    </tr>\n",
       "    <tr>\n",
       "      <th>std</th>\n",
       "      <td>2056.305336</td>\n",
       "      <td>115.408300</td>\n",
       "      <td>0.097027</td>\n",
       "      <td>0.114907</td>\n",
       "      <td>115.386716</td>\n",
       "      <td>0.096979</td>\n",
       "      <td>0.114620</td>\n",
       "      <td>1687.339951</td>\n",
       "      <td>10.077825</td>\n",
       "    </tr>\n",
       "    <tr>\n",
       "      <th>min</th>\n",
       "      <td>61.000000</td>\n",
       "      <td>3.000000</td>\n",
       "      <td>37.315158</td>\n",
       "      <td>-122.453704</td>\n",
       "      <td>3.000000</td>\n",
       "      <td>37.315158</td>\n",
       "      <td>-122.453704</td>\n",
       "      <td>11.000000</td>\n",
       "      <td>1878.000000</td>\n",
       "    </tr>\n",
       "    <tr>\n",
       "      <th>25%</th>\n",
       "      <td>338.000000</td>\n",
       "      <td>47.000000</td>\n",
       "      <td>37.770083</td>\n",
       "      <td>-122.415204</td>\n",
       "      <td>44.000000</td>\n",
       "      <td>37.770407</td>\n",
       "      <td>-122.413004</td>\n",
       "      <td>4525.000000</td>\n",
       "      <td>1980.000000</td>\n",
       "    </tr>\n",
       "    <tr>\n",
       "      <th>50%</th>\n",
       "      <td>542.000000</td>\n",
       "      <td>104.000000</td>\n",
       "      <td>37.780787</td>\n",
       "      <td>-122.398870</td>\n",
       "      <td>102.000000</td>\n",
       "      <td>37.781010</td>\n",
       "      <td>-122.398525</td>\n",
       "      <td>5369.000000</td>\n",
       "      <td>1987.000000</td>\n",
       "    </tr>\n",
       "    <tr>\n",
       "      <th>75%</th>\n",
       "      <td>854.000000</td>\n",
       "      <td>240.000000</td>\n",
       "      <td>37.797280</td>\n",
       "      <td>-122.293528</td>\n",
       "      <td>239.000000</td>\n",
       "      <td>37.797320</td>\n",
       "      <td>-122.293528</td>\n",
       "      <td>6127.000000</td>\n",
       "      <td>1992.000000</td>\n",
       "    </tr>\n",
       "    <tr>\n",
       "      <th>max</th>\n",
       "      <td>85676.000000</td>\n",
       "      <td>407.000000</td>\n",
       "      <td>37.880222</td>\n",
       "      <td>-121.874119</td>\n",
       "      <td>407.000000</td>\n",
       "      <td>37.880222</td>\n",
       "      <td>-121.874119</td>\n",
       "      <td>7082.000000</td>\n",
       "      <td>2001.000000</td>\n",
       "    </tr>\n",
       "  </tbody>\n",
       "</table>\n",
       "</div>"
      ],
      "text/plain": [
       "        duration_sec  start_station_id  start_station_latitude  \\\n",
       "count  256299.000000     256078.000000           256299.000000   \n",
       "mean      807.873831        141.352424               37.771769   \n",
       "std      2056.305336        115.408300                0.097027   \n",
       "min        61.000000          3.000000               37.315158   \n",
       "25%       338.000000         47.000000               37.770083   \n",
       "50%       542.000000        104.000000               37.780787   \n",
       "75%       854.000000        240.000000               37.797280   \n",
       "max     85676.000000        407.000000               37.880222   \n",
       "\n",
       "       start_station_longitude  end_station_id  end_station_latitude  \\\n",
       "count            256299.000000   256078.000000         256299.000000   \n",
       "mean               -122.356164      140.011317             37.771933   \n",
       "std                   0.114907      115.386716              0.096979   \n",
       "min                -122.453704        3.000000             37.315158   \n",
       "25%                -122.415204       44.000000             37.770407   \n",
       "50%                -122.398870      102.000000             37.781010   \n",
       "75%                -122.293528      239.000000             37.797320   \n",
       "max                -121.874119      407.000000             37.880222   \n",
       "\n",
       "       end_station_longitude        bike_id  member_birth_year  \n",
       "count          256299.000000  256299.000000      244576.000000  \n",
       "mean             -122.355815    4916.572531        1984.989050  \n",
       "std                 0.114620    1687.339951          10.077825  \n",
       "min              -122.453704      11.000000        1878.000000  \n",
       "25%              -122.413004    4525.000000        1980.000000  \n",
       "50%              -122.398525    5369.000000        1987.000000  \n",
       "75%              -122.293528    6127.000000        1992.000000  \n",
       "max              -121.874119    7082.000000        2001.000000  "
      ]
     },
     "execution_count": 5,
     "metadata": {},
     "output_type": "execute_result"
    }
   ],
   "source": [
    "fgb.describe()"
   ]
  },
  {
   "cell_type": "code",
   "execution_count": 6,
   "metadata": {
    "scrolled": false
   },
   "outputs": [
    {
     "name": "stdout",
     "output_type": "stream",
     "text": [
      "<class 'pandas.core.frame.DataFrame'>\n",
      "RangeIndex: 256299 entries, 0 to 256298\n",
      "Data columns (total 16 columns):\n",
      "duration_sec               256299 non-null int64\n",
      "start_time                 256299 non-null object\n",
      "end_time                   256299 non-null object\n",
      "start_station_id           256078 non-null float64\n",
      "start_station_name         256078 non-null object\n",
      "start_station_latitude     256299 non-null float64\n",
      "start_station_longitude    256299 non-null float64\n",
      "end_station_id             256078 non-null float64\n",
      "end_station_name           256078 non-null object\n",
      "end_station_latitude       256299 non-null float64\n",
      "end_station_longitude      256299 non-null float64\n",
      "bike_id                    256299 non-null int64\n",
      "user_type                  256299 non-null object\n",
      "member_birth_year          244576 non-null float64\n",
      "member_gender              244576 non-null object\n",
      "bike_share_for_all_trip    256299 non-null object\n",
      "dtypes: float64(7), int64(2), object(7)\n",
      "memory usage: 24.4+ MB\n"
     ]
    }
   ],
   "source": [
    "fgb.info()"
   ]
  },
  {
   "cell_type": "markdown",
   "metadata": {},
   "source": [
    "### Univariate Exploration\n",
    "\n",
    "1. On which day of the week do people take more number of trips."
   ]
  },
  {
   "cell_type": "markdown",
   "metadata": {},
   "source": [
    "To do this, we shall create another column named 'weekday' using 'start_time'."
   ]
  },
  {
   "cell_type": "code",
   "execution_count": 7,
   "metadata": {
    "scrolled": true
   },
   "outputs": [],
   "source": [
    "li = []\n",
    "for i in range(len(fgb)):\n",
    "    li.append(datetime.datetime.strptime(fgb.start_time[i][:-5],'%Y-%m-%d %H:%M:%S').strftime('%A'))"
   ]
  },
  {
   "cell_type": "code",
   "execution_count": 8,
   "metadata": {},
   "outputs": [],
   "source": [
    "fgb['weekday'] = li"
   ]
  },
  {
   "cell_type": "code",
   "execution_count": 9,
   "metadata": {
    "scrolled": false
   },
   "outputs": [
    {
     "data": {
      "text/plain": [
       "Friday       45233\n",
       "Thursday     41665\n",
       "Tuesday      39589\n",
       "Monday       37208\n",
       "Wednesday    36979\n",
       "Saturday     27880\n",
       "Sunday       27745\n",
       "Name: weekday, dtype: int64"
      ]
     },
     "execution_count": 9,
     "metadata": {},
     "output_type": "execute_result"
    }
   ],
   "source": [
    "fgb.weekday.value_counts()"
   ]
  },
  {
   "cell_type": "code",
   "execution_count": 10,
   "metadata": {
    "scrolled": true
   },
   "outputs": [
    {
     "data": {
      "image/png": "[encoded data removed]",
      "text/plain": [
       "<Figure size 432x288 with 1 Axes>"
      ]
     },
     "metadata": {},
     "output_type": "display_data"
    }
   ],
   "source": [
    "color = sb.color_palette()[0]\n",
    "order = fgb.weekday.value_counts().index\n",
    "sb.countplot(data=fgb,y='weekday',order=order,color=color);\n",
    "plt.title('Numer of trips on each day of the week');\n",
    "plt.xlabel('Number of trips');\n",
    "plt.ylabel('Weekday');"
   ]
  },
  {
   "cell_type": "markdown",
   "metadata": {},
   "source": [
    "**Insights**\n",
    "\n",
    "From the plot, it is evident that most number of trips are recorded on Friday(45233).\n",
    "\n",
    "As expected, lowest number of trips are recorded during weekend (Saturday and Sunday) as people like to chill out / rest at home."
   ]
  },
  {
   "cell_type": "markdown",
   "metadata": {},
   "source": [
    "## Bivariate Exploration\n",
    "\n",
    "1. In this section, we investigate relationship between user type and their average trip duration."
   ]
  },
  {
   "cell_type": "code",
   "execution_count": 11,
   "metadata": {},
   "outputs": [],
   "source": [
    "#New column duration_min is created from duration_sec to make analysis easier.\n",
    "fgb['duration_min'] = fgb['duration_sec']/60\n",
    "fgb['duration_min'] = ['{0:.2f}'.format(i) for i in fgb.duration_min]\n",
    "fgb.duration_min = fgb.duration_min.astype('float')"
   ]
  },
  {
   "cell_type": "code",
   "execution_count": 12,
   "metadata": {},
   "outputs": [
    {
     "data": {
      "text/plain": [
       "dtype('float64')"
      ]
     },
     "execution_count": 12,
     "metadata": {},
     "output_type": "execute_result"
    }
   ],
   "source": [
    "fgb.duration_min.dtype"
   ]
  },
  {
   "cell_type": "code",
   "execution_count": 13,
   "metadata": {
    "scrolled": true
   },
   "outputs": [
    {
     "data": {
      "image/png": "[encoded data removed]",
      "text/plain": [
       "<Figure size 432x288 with 1 Axes>"
      ]
     },
     "metadata": {},
     "output_type": "display_data"
    }
   ],
   "source": [
    "user_dur = fgb.groupby('user_type')['duration_min'].mean()\n",
    "user_dur.plot(kind='bar',title='User Type and their Average Trip Duration',color='c');\n",
    "plt.xlabel('User Type');\n",
    "plt.ylabel('Average Trip Duration in Minutes');"
   ]
  },
  {
   "cell_type": "markdown",
   "metadata": {},
   "source": [
    "**Insights**\n",
    "\n",
    "From the plot it is evident that people who have not subscribed(Customers) take longer trips compared to that of Subscribers. \n",
    "\n",
    "The average trip duration is ~27 mins and ~11 minutes for Customers and Subscribers respectively. "
   ]
  },
  {
   "cell_type": "code",
   "execution_count": 14,
   "metadata": {},
   "outputs": [],
   "source": [
    "#Dropping duration_sec column as we will consider duration_min for analysis\n",
    "fgb.drop(columns=['duration_sec'],inplace=True)"
   ]
  },
  {
   "cell_type": "markdown",
   "metadata": {},
   "source": [
    "2. Here, we will find the average trip duration among different age groups."
   ]
  },
  {
   "cell_type": "code",
   "execution_count": 15,
   "metadata": {},
   "outputs": [],
   "source": [
    "#Here, we will consider only not null values of member_birth_year\n",
    "fgb_year = fgb[fgb['member_birth_year'].notnull()]"
   ]
  },
  {
   "cell_type": "code",
   "execution_count": 16,
   "metadata": {
    "scrolled": false
   },
   "outputs": [
    {
     "name": "stderr",
     "output_type": "stream",
     "text": [
      "H:\\anaconda\\lib\\site-packages\\pandas\\core\\generic.py:4401: SettingWithCopyWarning: \n",
      "A value is trying to be set on a copy of a slice from a DataFrame.\n",
      "Try using .loc[row_indexer,col_indexer] = value instead\n",
      "\n",
      "See the caveats in the documentation: http://pandas.pydata.org/pandas-docs/stable/indexing.html#indexing-view-versus-copy\n",
      "  self[name] = value\n"
     ]
    }
   ],
   "source": [
    "fgb_year.member_birth_year = fgb_year['member_birth_year'].astype(int)"
   ]
  },
  {
   "cell_type": "code",
   "execution_count": 17,
   "metadata": {},
   "outputs": [],
   "source": [
    "#Since rows are filtered, indices need to be reset inorder to perform next operation\n",
    "fgb_year.reset_index(drop=True,inplace=True)"
   ]
  },
  {
   "cell_type": "code",
   "execution_count": 18,
   "metadata": {},
   "outputs": [
    {
     "name": "stderr",
     "output_type": "stream",
     "text": [
      "H:\\anaconda\\lib\\site-packages\\ipykernel_launcher.py:14: SettingWithCopyWarning: \n",
      "A value is trying to be set on a copy of a slice from a DataFrame.\n",
      "Try using .loc[row_indexer,col_indexer] = value instead\n",
      "\n",
      "See the caveats in the documentation: http://pandas.pydata.org/pandas-docs/stable/indexing.html#indexing-view-versus-copy\n",
      "  \n"
     ]
    }
   ],
   "source": [
    "#We will create another column age_group which is obtained by subtracting 2019 from member_birth_year.\n",
    "age_group = []\n",
    "for i in range(len(fgb_year)):\n",
    "    temp = fgb_year.member_birth_year[i]\n",
    "    if(temp > 1999):\n",
    "        age_group.append('Less than 20')\n",
    "    elif(temp > 1978):\n",
    "        age_group.append('20-40')\n",
    "    elif(temp > 1958):\n",
    "        age_group.append('40-60')\n",
    "    else:\n",
    "        age_group.append('More than 60')\n",
    "\n",
    "fgb_year['age_group'] = age_group"
   ]
  },
  {
   "cell_type": "code",
   "execution_count": 19,
   "metadata": {
    "scrolled": false
   },
   "outputs": [
    {
     "data": {
      "text/plain": [
       "20-40           191731\n",
       "40-60            45895\n",
       "More than 60      4593\n",
       "Less than 20      2357\n",
       "Name: age_group, dtype: int64"
      ]
     },
     "execution_count": 19,
     "metadata": {},
     "output_type": "execute_result"
    }
   ],
   "source": [
    "fgb_year.age_group.value_counts()"
   ]
  },
  {
   "cell_type": "code",
   "execution_count": 20,
   "metadata": {
    "scrolled": false
   },
   "outputs": [],
   "source": [
    "age_dur = fgb_year.groupby('age_group')['duration_min'].mean()"
   ]
  },
  {
   "cell_type": "code",
   "execution_count": 21,
   "metadata": {},
   "outputs": [
    {
     "data": {
      "image/png": "[encoded data removed]",
      "text/plain": [
       "<Figure size 432x288 with 1 Axes>"
      ]
     },
     "metadata": {},
     "output_type": "display_data"
    }
   ],
   "source": [
    "age_dur.plot(kind='bar',title='Average trip duration of different age groups',color='c');\n",
    "plt.xlabel('Age Group');\n",
    "plt.ylabel('Average trip duration in minutes');"
   ]
  },
  {
   "cell_type": "code",
   "execution_count": 22,
   "metadata": {
    "scrolled": true
   },
   "outputs": [
    {
     "data": {
      "image/png": "[encoded data removed]",
      "text/plain": [
       "<Figure size 432x288 with 1 Axes>"
      ]
     },
     "metadata": {},
     "output_type": "display_data"
    }
   ],
   "source": [
    "sb.boxplot(data=fgb_year,x='age_group',y='duration_min',showfliers=False,color=sb.color_palette()[0]);\n",
    "plt.title('Trip duration vs Age group');\n",
    "plt.xlabel('Age Group');\n",
    "plt.ylabel('Trip duration in Minutes');"
   ]
  },
  {
   "cell_type": "markdown",
   "metadata": {},
   "source": [
    "**Insights**\n",
    "\n",
    "From the plot it is evident that\n",
    "\n",
    "- People of age less than 20(Kids and Teens) take longer trips.\n",
    "- People of age between 20-40(Youth) take shorter trips compared to all other age groups.\n",
    "- Mean trip duration of Kids and Teens is 16 minutes.\n",
    "- The range of trip duration is also high for Kids and Teens.\n",
    "- Average trip duration for different age groups are as follows:\n",
    "    - Less than 20 : 16 minutes\n",
    "    - 20 - 40 : 12.85 minutes\n",
    "    - 40 - 60 : 13.28 minutes\n",
    "    - More than 60 : 13.44 minutes"
   ]
  },
  {
   "cell_type": "markdown",
   "metadata": {},
   "source": [
    "## Multivariate Exploration\n",
    "\n",
    "> A sample of 500 records is considered to ivestigate the relationship between Birth year, Gender and the Average trip duration."
   ]
  },
  {
   "cell_type": "code",
   "execution_count": 69,
   "metadata": {
    "scrolled": true
   },
   "outputs": [],
   "source": [
    "np.random.seed(450)\n",
    "sample = np.random.choice(fgb_year.shape[0],500,replace=True)\n",
    "fgb_sample = fgb_year.loc[sample]"
   ]
  },
  {
   "cell_type": "code",
   "execution_count": 72,
   "metadata": {},
   "outputs": [
    {
     "data": {
      "image/png": "[encoded data removed]",
      "text/plain": [
       "<Figure size 435.975x216 with 1 Axes>"
      ]
     },
     "metadata": {},
     "output_type": "display_data"
    }
   ],
   "source": [
    "g=sb.FacetGrid(data=fgb_sample,hue='member_gender',aspect=1.6);\n",
    "g.map(sb.regplot,'member_birth_year','duration_min',fit_reg=False,scatter_kws={'alpha':1/2});\n",
    "plt.xlim(1950,2000);\n",
    "g.add_legend();\n",
    "plt.title('Relation between Gender and Trip Duration of 400 people born between 1950 and 2000');\n",
    "plt.xlabel('Birth Years');\n",
    "plt.ylabel('Trip Duration in Minutes');"
   ]
  },
  {
   "cell_type": "code",
   "execution_count": 65,
   "metadata": {
    "scrolled": true
   },
   "outputs": [
    {
     "data": {
      "text/plain": [
       "member_gender\n",
       "Female    14.614210\n",
       "Male      12.312425\n",
       "Other     17.585481\n",
       "Name: duration_min, dtype: float64"
      ]
     },
     "execution_count": 65,
     "metadata": {},
     "output_type": "execute_result"
    }
   ],
   "source": [
    "fgb.groupby('member_gender')['duration_min'].mean()"
   ]
  },
  {
   "cell_type": "markdown",
   "metadata": {},
   "source": [
    "From the plot it is evident that,\n",
    "\n",
    "- Most of the member_birth_years range between 1980 and 2000.\n",
    "- Most of the records have their gender 'Male'.\n",
    "- Mostly, trip duration range between 5 to 20 minutes.\n",
    "- There is no much dependency of gender on trip duration.\n",
    "- Average trip duration per gender is: Female - 14.61 minutes, Male - 12.31 minutes and Other - 17.58 minutes. Although 'Other' gender has more average trip duration, it is mostly because of very few rides been taken for a longer duration."
   ]
  }
 ],
 "metadata": {
  "kernelspec": {
   "display_name": "Python 3",
   "language": "python",
   "name": "python3"
  },
  "language_info": {
   "codemirror_mode": {
    "name": "ipython",
    "version": 3
   },
   "file_extension": ".py",
   "mimetype": "text/x-python",
   "name": "python",
   "nbconvert_exporter": "python",
   "pygments_lexer": "ipython3",
   "version": "3.6.5"
  }
 },
 "nbformat": 4,
 "nbformat_minor": 2
}
