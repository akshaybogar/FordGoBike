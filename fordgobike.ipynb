{
 "cells": [
  {
   "cell_type": "markdown",
   "metadata": {},
   "source": [
    "# FordGoBike \n",
    "\n",
    "\n",
    "\n",
    "Here, we will analyse and visualise FordGoBike dataset. This dataset contains infomation about each trip (anonimized)."
   ]
  },
  {
   "cell_type": "code",
   "execution_count": 1,
   "metadata": {},
   "outputs": [],
   "source": [
    "# import all packages and set plots to be embedded inline\n",
    "import numpy as np\n",
    "import pandas as pd\n",
    "import matplotlib.pyplot as plt\n",
    "import seaborn as sb\n",
    "\n",
    "%matplotlib inline"
   ]
  },
  {
   "cell_type": "markdown",
   "metadata": {},
   "source": [
    "The data is loaded into a dataframe from 'fordgobike-tripdata-2019.csv'"
   ]
  },
  {
   "cell_type": "code",
   "execution_count": 2,
   "metadata": {},
   "outputs": [],
   "source": [
    "fgb = pd.read_csv('fordgobike-tripdata-2019.csv')"
   ]
  },
  {
   "cell_type": "code",
   "execution_count": 3,
   "metadata": {
    "scrolled": false
   },
   "outputs": [
    {
     "data": {
      "text/html": [
       "<div>\n",
       "<style scoped>\n",
       "    .dataframe tbody tr th:only-of-type {\n",
       "        vertical-align: middle;\n",
       "    }\n",
       "\n",
       "    .dataframe tbody tr th {\n",
       "        vertical-align: top;\n",
       "    }\n",
       "\n",
       "    .dataframe thead th {\n",
       "        text-align: right;\n",
       "    }\n",
       "</style>\n",
       "<table border=\"1\" class=\"dataframe\">\n",
       "  <thead>\n",
       "    <tr style=\"text-align: right;\">\n",
       "      <th></th>\n",
       "      <th>duration_sec</th>\n",
       "      <th>start_time</th>\n",
       "      <th>end_time</th>\n",
       "      <th>start_station_id</th>\n",
       "      <th>start_station_name</th>\n",
       "      <th>start_station_latitude</th>\n",
       "      <th>start_station_longitude</th>\n",
       "      <th>end_station_id</th>\n",
       "      <th>end_station_name</th>\n",
       "      <th>end_station_latitude</th>\n",
       "      <th>end_station_longitude</th>\n",
       "      <th>bike_id</th>\n",
       "      <th>user_type</th>\n",
       "      <th>member_birth_year</th>\n",
       "      <th>member_gender</th>\n",
       "      <th>bike_share_for_all_trip</th>\n",
       "    </tr>\n",
       "  </thead>\n",
       "  <tbody>\n",
       "    <tr>\n",
       "      <th>0</th>\n",
       "      <td>53588</td>\n",
       "      <td>2019-03-31 20:59:21.8780</td>\n",
       "      <td>2019-04-01 11:52:30.2000</td>\n",
       "      <td>377.0</td>\n",
       "      <td>Fell St at Stanyan St</td>\n",
       "      <td>37.771917</td>\n",
       "      <td>-122.453704</td>\n",
       "      <td>377.0</td>\n",
       "      <td>Fell St at Stanyan St</td>\n",
       "      <td>37.771917</td>\n",
       "      <td>-122.453704</td>\n",
       "      <td>6803</td>\n",
       "      <td>Subscriber</td>\n",
       "      <td>1980.0</td>\n",
       "      <td>Other</td>\n",
       "      <td>No</td>\n",
       "    </tr>\n",
       "    <tr>\n",
       "      <th>1</th>\n",
       "      <td>74305</td>\n",
       "      <td>2019-03-31 13:56:46.0050</td>\n",
       "      <td>2019-04-01 10:35:11.4540</td>\n",
       "      <td>385.0</td>\n",
       "      <td>Woolsey St at Sacramento St</td>\n",
       "      <td>37.850578</td>\n",
       "      <td>-122.278175</td>\n",
       "      <td>233.0</td>\n",
       "      <td>4th Ave at E 12th St (Temporary Location)</td>\n",
       "      <td>37.795913</td>\n",
       "      <td>-122.255547</td>\n",
       "      <td>6415</td>\n",
       "      <td>Subscriber</td>\n",
       "      <td>1990.0</td>\n",
       "      <td>Male</td>\n",
       "      <td>No</td>\n",
       "    </tr>\n",
       "    <tr>\n",
       "      <th>2</th>\n",
       "      <td>79789</td>\n",
       "      <td>2019-03-31 11:48:34.2010</td>\n",
       "      <td>2019-04-01 09:58:23.8240</td>\n",
       "      <td>3.0</td>\n",
       "      <td>Powell St BART Station (Market St at 4th St)</td>\n",
       "      <td>37.786375</td>\n",
       "      <td>-122.404904</td>\n",
       "      <td>345.0</td>\n",
       "      <td>Hubbell St at 16th St</td>\n",
       "      <td>37.766483</td>\n",
       "      <td>-122.398279</td>\n",
       "      <td>2317</td>\n",
       "      <td>Customer</td>\n",
       "      <td>NaN</td>\n",
       "      <td>NaN</td>\n",
       "      <td>No</td>\n",
       "    </tr>\n",
       "    <tr>\n",
       "      <th>3</th>\n",
       "      <td>59315</td>\n",
       "      <td>2019-03-31 16:48:54.3740</td>\n",
       "      <td>2019-04-01 09:17:30.1540</td>\n",
       "      <td>92.0</td>\n",
       "      <td>Mission Bay Kids Park</td>\n",
       "      <td>37.772301</td>\n",
       "      <td>-122.393028</td>\n",
       "      <td>49.0</td>\n",
       "      <td>S Park St at 3rd St</td>\n",
       "      <td>37.780760</td>\n",
       "      <td>-122.394989</td>\n",
       "      <td>6631</td>\n",
       "      <td>Customer</td>\n",
       "      <td>1996.0</td>\n",
       "      <td>Female</td>\n",
       "      <td>No</td>\n",
       "    </tr>\n",
       "    <tr>\n",
       "      <th>4</th>\n",
       "      <td>47886</td>\n",
       "      <td>2019-03-31 19:54:24.1480</td>\n",
       "      <td>2019-04-01 09:12:30.8170</td>\n",
       "      <td>339.0</td>\n",
       "      <td>Jackson St at 11th St</td>\n",
       "      <td>37.800002</td>\n",
       "      <td>-122.266438</td>\n",
       "      <td>18.0</td>\n",
       "      <td>Telegraph Ave at Alcatraz Ave</td>\n",
       "      <td>37.850222</td>\n",
       "      <td>-122.260172</td>\n",
       "      <td>5241</td>\n",
       "      <td>Subscriber</td>\n",
       "      <td>1974.0</td>\n",
       "      <td>Female</td>\n",
       "      <td>No</td>\n",
       "    </tr>\n",
       "  </tbody>\n",
       "</table>\n",
       "</div>"
      ],
      "text/plain": [
       "   duration_sec                start_time                  end_time  \\\n",
       "0         53588  2019-03-31 20:59:21.8780  2019-04-01 11:52:30.2000   \n",
       "1         74305  2019-03-31 13:56:46.0050  2019-04-01 10:35:11.4540   \n",
       "2         79789  2019-03-31 11:48:34.2010  2019-04-01 09:58:23.8240   \n",
       "3         59315  2019-03-31 16:48:54.3740  2019-04-01 09:17:30.1540   \n",
       "4         47886  2019-03-31 19:54:24.1480  2019-04-01 09:12:30.8170   \n",
       "\n",
       "   start_station_id                            start_station_name  \\\n",
       "0             377.0                         Fell St at Stanyan St   \n",
       "1             385.0                   Woolsey St at Sacramento St   \n",
       "2               3.0  Powell St BART Station (Market St at 4th St)   \n",
       "3              92.0                         Mission Bay Kids Park   \n",
       "4             339.0                         Jackson St at 11th St   \n",
       "\n",
       "   start_station_latitude  start_station_longitude  end_station_id  \\\n",
       "0               37.771917              -122.453704           377.0   \n",
       "1               37.850578              -122.278175           233.0   \n",
       "2               37.786375              -122.404904           345.0   \n",
       "3               37.772301              -122.393028            49.0   \n",
       "4               37.800002              -122.266438            18.0   \n",
       "\n",
       "                            end_station_name  end_station_latitude  \\\n",
       "0                      Fell St at Stanyan St             37.771917   \n",
       "1  4th Ave at E 12th St (Temporary Location)             37.795913   \n",
       "2                      Hubbell St at 16th St             37.766483   \n",
       "3                        S Park St at 3rd St             37.780760   \n",
       "4              Telegraph Ave at Alcatraz Ave             37.850222   \n",
       "\n",
       "   end_station_longitude  bike_id   user_type  member_birth_year  \\\n",
       "0            -122.453704     6803  Subscriber             1980.0   \n",
       "1            -122.255547     6415  Subscriber             1990.0   \n",
       "2            -122.398279     2317    Customer                NaN   \n",
       "3            -122.394989     6631    Customer             1996.0   \n",
       "4            -122.260172     5241  Subscriber             1974.0   \n",
       "\n",
       "  member_gender bike_share_for_all_trip  \n",
       "0         Other                      No  \n",
       "1          Male                      No  \n",
       "2           NaN                      No  \n",
       "3        Female                      No  \n",
       "4        Female                      No  "
      ]
     },
     "execution_count": 3,
     "metadata": {},
     "output_type": "execute_result"
    }
   ],
   "source": [
    "fgb.head()"
   ]
  },
  {
   "cell_type": "code",
   "execution_count": 5,
   "metadata": {},
   "outputs": [
    {
     "data": {
      "text/plain": [
       "(256299, 16)"
      ]
     },
     "execution_count": 5,
     "metadata": {},
     "output_type": "execute_result"
    }
   ],
   "source": [
    "#Structure of the dataframe\n",
    "fgb.shape"
   ]
  },
  {
   "cell_type": "markdown",
   "metadata": {},
   "source": [
    "### Assessing data"
   ]
  },
  {
   "cell_type": "code",
   "execution_count": 6,
   "metadata": {
    "scrolled": true
   },
   "outputs": [
    {
     "data": {
      "text/html": [
       "<div>\n",
       "<style scoped>\n",
       "    .dataframe tbody tr th:only-of-type {\n",
       "        vertical-align: middle;\n",
       "    }\n",
       "\n",
       "    .dataframe tbody tr th {\n",
       "        vertical-align: top;\n",
       "    }\n",
       "\n",
       "    .dataframe thead th {\n",
       "        text-align: right;\n",
       "    }\n",
       "</style>\n",
       "<table border=\"1\" class=\"dataframe\">\n",
       "  <thead>\n",
       "    <tr style=\"text-align: right;\">\n",
       "      <th></th>\n",
       "      <th>duration_sec</th>\n",
       "      <th>start_station_id</th>\n",
       "      <th>start_station_latitude</th>\n",
       "      <th>start_station_longitude</th>\n",
       "      <th>end_station_id</th>\n",
       "      <th>end_station_latitude</th>\n",
       "      <th>end_station_longitude</th>\n",
       "      <th>bike_id</th>\n",
       "      <th>member_birth_year</th>\n",
       "    </tr>\n",
       "  </thead>\n",
       "  <tbody>\n",
       "    <tr>\n",
       "      <th>count</th>\n",
       "      <td>256299.000000</td>\n",
       "      <td>256078.000000</td>\n",
       "      <td>256299.000000</td>\n",
       "      <td>256299.000000</td>\n",
       "      <td>256078.000000</td>\n",
       "      <td>256299.000000</td>\n",
       "      <td>256299.000000</td>\n",
       "      <td>256299.000000</td>\n",
       "      <td>244576.000000</td>\n",
       "    </tr>\n",
       "    <tr>\n",
       "      <th>mean</th>\n",
       "      <td>807.873831</td>\n",
       "      <td>141.352424</td>\n",
       "      <td>37.771769</td>\n",
       "      <td>-122.356164</td>\n",
       "      <td>140.011317</td>\n",
       "      <td>37.771933</td>\n",
       "      <td>-122.355815</td>\n",
       "      <td>4916.572531</td>\n",
       "      <td>1984.989050</td>\n",
       "    </tr>\n",
       "    <tr>\n",
       "      <th>std</th>\n",
       "      <td>2056.305336</td>\n",
       "      <td>115.408300</td>\n",
       "      <td>0.097027</td>\n",
       "      <td>0.114907</td>\n",
       "      <td>115.386716</td>\n",
       "      <td>0.096979</td>\n",
       "      <td>0.114620</td>\n",
       "      <td>1687.339951</td>\n",
       "      <td>10.077825</td>\n",
       "    </tr>\n",
       "    <tr>\n",
       "      <th>min</th>\n",
       "      <td>61.000000</td>\n",
       "      <td>3.000000</td>\n",
       "      <td>37.315158</td>\n",
       "      <td>-122.453704</td>\n",
       "      <td>3.000000</td>\n",
       "      <td>37.315158</td>\n",
       "      <td>-122.453704</td>\n",
       "      <td>11.000000</td>\n",
       "      <td>1878.000000</td>\n",
       "    </tr>\n",
       "    <tr>\n",
       "      <th>25%</th>\n",
       "      <td>338.000000</td>\n",
       "      <td>47.000000</td>\n",
       "      <td>37.770083</td>\n",
       "      <td>-122.415204</td>\n",
       "      <td>44.000000</td>\n",
       "      <td>37.770407</td>\n",
       "      <td>-122.413004</td>\n",
       "      <td>4525.000000</td>\n",
       "      <td>1980.000000</td>\n",
       "    </tr>\n",
       "    <tr>\n",
       "      <th>50%</th>\n",
       "      <td>542.000000</td>\n",
       "      <td>104.000000</td>\n",
       "      <td>37.780787</td>\n",
       "      <td>-122.398870</td>\n",
       "      <td>102.000000</td>\n",
       "      <td>37.781010</td>\n",
       "      <td>-122.398525</td>\n",
       "      <td>5369.000000</td>\n",
       "      <td>1987.000000</td>\n",
       "    </tr>\n",
       "    <tr>\n",
       "      <th>75%</th>\n",
       "      <td>854.000000</td>\n",
       "      <td>240.000000</td>\n",
       "      <td>37.797280</td>\n",
       "      <td>-122.293528</td>\n",
       "      <td>239.000000</td>\n",
       "      <td>37.797320</td>\n",
       "      <td>-122.293528</td>\n",
       "      <td>6127.000000</td>\n",
       "      <td>1992.000000</td>\n",
       "    </tr>\n",
       "    <tr>\n",
       "      <th>max</th>\n",
       "      <td>85676.000000</td>\n",
       "      <td>407.000000</td>\n",
       "      <td>37.880222</td>\n",
       "      <td>-121.874119</td>\n",
       "      <td>407.000000</td>\n",
       "      <td>37.880222</td>\n",
       "      <td>-121.874119</td>\n",
       "      <td>7082.000000</td>\n",
       "      <td>2001.000000</td>\n",
       "    </tr>\n",
       "  </tbody>\n",
       "</table>\n",
       "</div>"
      ],
      "text/plain": [
       "        duration_sec  start_station_id  start_station_latitude  \\\n",
       "count  256299.000000     256078.000000           256299.000000   \n",
       "mean      807.873831        141.352424               37.771769   \n",
       "std      2056.305336        115.408300                0.097027   \n",
       "min        61.000000          3.000000               37.315158   \n",
       "25%       338.000000         47.000000               37.770083   \n",
       "50%       542.000000        104.000000               37.780787   \n",
       "75%       854.000000        240.000000               37.797280   \n",
       "max     85676.000000        407.000000               37.880222   \n",
       "\n",
       "       start_station_longitude  end_station_id  end_station_latitude  \\\n",
       "count            256299.000000   256078.000000         256299.000000   \n",
       "mean               -122.356164      140.011317             37.771933   \n",
       "std                   0.114907      115.386716              0.096979   \n",
       "min                -122.453704        3.000000             37.315158   \n",
       "25%                -122.415204       44.000000             37.770407   \n",
       "50%                -122.398870      102.000000             37.781010   \n",
       "75%                -122.293528      239.000000             37.797320   \n",
       "max                -121.874119      407.000000             37.880222   \n",
       "\n",
       "       end_station_longitude        bike_id  member_birth_year  \n",
       "count          256299.000000  256299.000000      244576.000000  \n",
       "mean             -122.355815    4916.572531        1984.989050  \n",
       "std                 0.114620    1687.339951          10.077825  \n",
       "min              -122.453704      11.000000        1878.000000  \n",
       "25%              -122.413004    4525.000000        1980.000000  \n",
       "50%              -122.398525    5369.000000        1987.000000  \n",
       "75%              -122.293528    6127.000000        1992.000000  \n",
       "max              -121.874119    7082.000000        2001.000000  "
      ]
     },
     "execution_count": 6,
     "metadata": {},
     "output_type": "execute_result"
    }
   ],
   "source": [
    "fgb.describe()"
   ]
  },
  {
   "cell_type": "code",
   "execution_count": 7,
   "metadata": {
    "scrolled": true
   },
   "outputs": [
    {
     "name": "stdout",
     "output_type": "stream",
     "text": [
      "<class 'pandas.core.frame.DataFrame'>\n",
      "RangeIndex: 256299 entries, 0 to 256298\n",
      "Data columns (total 16 columns):\n",
      "duration_sec               256299 non-null int64\n",
      "start_time                 256299 non-null object\n",
      "end_time                   256299 non-null object\n",
      "start_station_id           256078 non-null float64\n",
      "start_station_name         256078 non-null object\n",
      "start_station_latitude     256299 non-null float64\n",
      "start_station_longitude    256299 non-null float64\n",
      "end_station_id             256078 non-null float64\n",
      "end_station_name           256078 non-null object\n",
      "end_station_latitude       256299 non-null float64\n",
      "end_station_longitude      256299 non-null float64\n",
      "bike_id                    256299 non-null int64\n",
      "user_type                  256299 non-null object\n",
      "member_birth_year          244576 non-null float64\n",
      "member_gender              244576 non-null object\n",
      "bike_share_for_all_trip    256299 non-null object\n",
      "dtypes: float64(7), int64(2), object(7)\n",
      "memory usage: 24.4+ MB\n"
     ]
    }
   ],
   "source": [
    "fgb.info()"
   ]
  },
  {
   "cell_type": "markdown",
   "metadata": {},
   "source": [
    "From the data we will find out if there are \n",
    "- any popular start stations (start_station_name will help in this case)\n",
    "- which day people take most trips on (start_time will help in this case)\n",
    "- Which age group take most number of trips (member_birth_year will help in this case)\n",
    "- Are people subscribers or casual users (user_type will help in this case)\n",
    "- WHich gender takes more number of rides (member_gender will help in this case)"
   ]
  },
  {
   "cell_type": "markdown",
   "metadata": {},
   "source": [
    "## Univariate Exploration\n",
    "\n",
    "> In this section, investigate distributions of individual variables. If\n",
    "you see unusual points or outliers, take a deeper look to clean things up\n",
    "and prepare yourself to look at relationships between variables."
   ]
  },
  {
   "cell_type": "code",
   "execution_count": null,
   "metadata": {},
   "outputs": [],
   "source": []
  },
  {
   "cell_type": "markdown",
   "metadata": {},
   "source": [
    "> Make sure that, after every plot or related series of plots, that you\n",
    "include a Markdown cell with comments about what you observed, and what\n",
    "you plan on investigating next."
   ]
  },
  {
   "cell_type": "code",
   "execution_count": null,
   "metadata": {},
   "outputs": [],
   "source": []
  },
  {
   "cell_type": "markdown",
   "metadata": {},
   "source": [
    "### Discuss the distribution(s) of your variable(s) of interest. Were there any unusual points? Did you need to perform any transformations?\n",
    "\n",
    "> Your answer here!\n",
    "\n",
    "### Of the features you investigated, were there any unusual distributions? Did you perform any operations on the data to tidy, adjust, or change the form of the data? If so, why did you do this?\n",
    "\n",
    "> Your answer here!"
   ]
  },
  {
   "cell_type": "markdown",
   "metadata": {},
   "source": [
    "## Bivariate Exploration\n",
    "\n",
    "> In this section, investigate relationships between pairs of variables in your\n",
    "data. Make sure the variables that you cover here have been introduced in some\n",
    "fashion in the previous section (univariate exploration)."
   ]
  },
  {
   "cell_type": "code",
   "execution_count": null,
   "metadata": {},
   "outputs": [],
   "source": []
  },
  {
   "cell_type": "markdown",
   "metadata": {},
   "source": [
    "### Talk about some of the relationships you observed in this part of the investigation. How did the feature(s) of interest vary with other features in the dataset?\n",
    "\n",
    "> Your answer here!\n",
    "\n",
    "### Did you observe any interesting relationships between the other features (not the main feature(s) of interest)?\n",
    "\n",
    "> Your answer here!"
   ]
  },
  {
   "cell_type": "markdown",
   "metadata": {},
   "source": [
    "## Multivariate Exploration\n",
    "\n",
    "> Create plots of three or more variables to investigate your data even\n",
    "further. Make sure that your investigations are justified, and follow from\n",
    "your work in the previous sections."
   ]
  },
  {
   "cell_type": "code",
   "execution_count": null,
   "metadata": {},
   "outputs": [],
   "source": []
  },
  {
   "cell_type": "markdown",
   "metadata": {},
   "source": [
    "### Talk about some of the relationships you observed in this part of the investigation. Were there features that strengthened each other in terms of looking at your feature(s) of interest?\n",
    "\n",
    "> Your answer here!\n",
    "\n",
    "### Were there any interesting or surprising interactions between features?\n",
    "\n",
    "> Your answer here!"
   ]
  },
  {
   "cell_type": "markdown",
   "metadata": {},
   "source": [
    "> At the end of your report, make sure that you export the notebook as an\n",
    "html file from the `File > Download as... > HTML` menu. Make sure you keep\n",
    "track of where the exported file goes, so you can put it in the same folder\n",
    "as this notebook for project submission. Also, make sure you remove all of\n",
    "the quote-formatted guide notes like this one before you finish your report!"
   ]
  },
  {
   "cell_type": "code",
   "execution_count": null,
   "metadata": {},
   "outputs": [],
   "source": []
  }
 ],
 "metadata": {
  "kernelspec": {
   "display_name": "Python 3",
   "language": "python",
   "name": "python3"
  },
  "language_info": {
   "codemirror_mode": {
    "name": "ipython",
    "version": 3
   },
   "file_extension": ".py",
   "mimetype": "text/x-python",
   "name": "python",
   "nbconvert_exporter": "python",
   "pygments_lexer": "ipython3",
   "version": "3.6.5"
  }
 },
 "nbformat": 4,
 "nbformat_minor": 2
}
